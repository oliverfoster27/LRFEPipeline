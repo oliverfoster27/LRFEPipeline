{
 "cells": [
  {
   "cell_type": "code",
   "execution_count": 962,
   "metadata": {},
   "outputs": [],
   "source": [
    "import numpy as np\n",
    "import pandas as pd\n",
    "from sklearn.base import BaseEstimator, TransformerMixin\n",
    "from sklearn.preprocessing import OneHotEncoder, StandardScaler, Imputer\n",
    "from sklearn.pipeline import FeatureUnion, Pipeline\n",
    "from sklearn.model_selection import train_test_split\n",
    "from sklearn.metrics import mean_squared_error\n",
    "from itertools import combinations, chain\n",
    "from sklearn.model_selection import KFold\n",
    "\n",
    "from sklearn.linear_model import LinearRegression\n",
    "from sklearn.linear_model import Lasso"
   ]
  },
  {
   "cell_type": "code",
   "execution_count": 2,
   "metadata": {},
   "outputs": [],
   "source": [
    "import matplotlib.pyplot as plt\n",
    "%matplotlib inline"
   ]
  },
  {
   "cell_type": "code",
   "execution_count": 984,
   "metadata": {},
   "outputs": [],
   "source": [
    "df = pd.read_csv(r\"./data/housing_train.csv\")"
   ]
  },
  {
   "cell_type": "code",
   "execution_count": 985,
   "metadata": {
    "scrolled": false
   },
   "outputs": [
    {
     "data": {
      "text/plain": [
       "Index(['Id', 'MSSubClass', 'MSZoning', 'LotFrontage', 'LotArea', 'Street',\n",
       "       'Alley', 'LotShape', 'LandContour', 'Utilities', 'LotConfig',\n",
       "       'LandSlope', 'Neighborhood', 'Condition1', 'Condition2', 'BldgType',\n",
       "       'HouseStyle', 'OverallQual', 'OverallCond', 'YearBuilt', 'YearRemodAdd',\n",
       "       'RoofStyle', 'RoofMatl', 'Exterior1st', 'Exterior2nd', 'MasVnrType',\n",
       "       'MasVnrArea', 'ExterQual', 'ExterCond', 'Foundation', 'BsmtQual',\n",
       "       'BsmtCond', 'BsmtExposure', 'BsmtFinType1', 'BsmtFinSF1',\n",
       "       'BsmtFinType2', 'BsmtFinSF2', 'BsmtUnfSF', 'TotalBsmtSF', 'Heating',\n",
       "       'HeatingQC', 'CentralAir', 'Electrical', '1stFlrSF', '2ndFlrSF',\n",
       "       'LowQualFinSF', 'GrLivArea', 'BsmtFullBath', 'BsmtHalfBath', 'FullBath',\n",
       "       'HalfBath', 'BedroomAbvGr', 'KitchenAbvGr', 'KitchenQual',\n",
       "       'TotRmsAbvGrd', 'Functional', 'Fireplaces', 'FireplaceQu', 'GarageType',\n",
       "       'GarageYrBlt', 'GarageFinish', 'GarageCars', 'GarageArea', 'GarageQual',\n",
       "       'GarageCond', 'PavedDrive', 'WoodDeckSF', 'OpenPorchSF',\n",
       "       'EnclosedPorch', '3SsnPorch', 'ScreenPorch', 'PoolArea', 'PoolQC',\n",
       "       'Fence', 'MiscFeature', 'MiscVal', 'MoSold', 'YrSold', 'SaleType',\n",
       "       'SaleCondition', 'SalePrice'],\n",
       "      dtype='object')"
      ]
     },
     "execution_count": 985,
     "metadata": {},
     "output_type": "execute_result"
    }
   ],
   "source": [
    "df.columns"
   ]
  },
  {
   "cell_type": "code",
   "execution_count": 986,
   "metadata": {},
   "outputs": [
    {
     "data": {
      "text/plain": [
       "<matplotlib.collections.PathCollection at 0x1a6b4cfc6a0>"
      ]
     },
     "execution_count": 986,
     "metadata": {},
     "output_type": "execute_result"
    },
    {
     "data": {
      "image/png": "[encoded data removed]",
      "text/plain": [
       "<Figure size 432x288 with 1 Axes>"
      ]
     },
     "metadata": {},
     "output_type": "display_data"
    }
   ],
   "source": [
    "plt.scatter(df['OverallQual'], df['SalePrice'])"
   ]
  },
  {
   "cell_type": "code",
   "execution_count": 987,
   "metadata": {
    "scrolled": false
   },
   "outputs": [
    {
     "data": {
      "text/plain": [
       "<matplotlib.collections.PathCollection at 0x1a6b4dbfdd8>"
      ]
     },
     "execution_count": 987,
     "metadata": {},
     "output_type": "execute_result"
    },
    {
     "data": {
      "image/png": "[encoded data removed]",
      "text/plain": [
       "<Figure size 432x288 with 1 Axes>"
      ]
     },
     "metadata": {},
     "output_type": "display_data"
    }
   ],
   "source": [
    "plt.scatter(df['YearBuilt'], df['SalePrice'])"
   ]
  },
  {
   "cell_type": "markdown",
   "metadata": {},
   "source": [
    "### Generic Transformations:\n",
    "- Polynomial range: [-2, -1, 1, 2, 3]\n",
    "\n",
    "1) Linear\n",
    "\n",
    "2) Polynomial\n",
    "\n",
    "3) Inverted Polynomial"
   ]
  },
  {
   "cell_type": "code",
   "execution_count": 988,
   "metadata": {},
   "outputs": [],
   "source": [
    "def powerset(iterable):\n",
    "    s = list(iterable)  # allows duplicate elements\n",
    "    return chain.from_iterable(combinations(s, r) for r in range(1, len(s)+1))"
   ]
  },
  {
   "cell_type": "code",
   "execution_count": 1331,
   "metadata": {
    "scrolled": false
   },
   "outputs": [
    {
     "name": "stderr",
     "output_type": "stream",
     "text": [
      "C:\\Users\\olive\\AppData\\Local\\Continuum\\anaconda3\\lib\\site-packages\\sklearn\\linear_model\\coordinate_descent.py:491: ConvergenceWarning: Objective did not converge. You might want to increase the number of iterations. Fitting data with very small alpha may cause precision problems.\n",
      "  ConvergenceWarning)\n"
     ]
    }
   ],
   "source": [
    "#X = df[['YearBuilt']].copy()\n",
    "X = df[['YearBuilt', 'OverallQual']].copy()\n",
    "y = df['SalePrice'].copy()\n",
    "#X = pd.DataFrame(np.linspace(1, 10))\n",
    "#y = X[0].copy() ** 2\n",
    "\n",
    "#print(X)\n",
    "#print(y)\n",
    "\n",
    "operations = []\n",
    "features = pd.DataFrame()\n",
    "for feat in X.columns:\n",
    "    min_err = 10e6\n",
    "    X_trial = pd.DataFrame()\n",
    "    X_trial[1] = X[feat]\n",
    "    for deg in range(2, 5):\n",
    "        X_trial[deg] = X_trial[1] ** deg\n",
    "    for inv_state, target in enumerate([y, 1/y]):\n",
    "\n",
    "        for i, combo in enumerate(powerset(X_trial.columns), 1):\n",
    "\n",
    "            combo = list(combo)\n",
    "            \n",
    "            if len(combo) == 1:\n",
    "                model = LinearRegression\n",
    "            else:\n",
    "                model = Lasso\n",
    "            \n",
    "            kf = KFold(n_splits=5, shuffle=True)\n",
    "            err = []\n",
    "            for train_index, test_index in kf.split(X_trial):\n",
    "                X_train, X_test = X_trial.loc[train_index, combo], X_trial.loc[test_index, combo]\n",
    "                y_train, y_test = target[train_index], target[test_index]\n",
    "                md = model().fit(X_train, y_train)\n",
    "                y_pred = md.predict(X_test)\n",
    "                err.append(mean_squared_error(y_test, y_pred))\n",
    "\n",
    "            avg_err = sum(err)/len(err)\n",
    "            if avg_err < min_err:\n",
    "                best_degrees = list(combo)\n",
    "                md = model().fit(X_trial[combo], target)\n",
    "                best_intercept = md.intercept_\n",
    "                best_coefs = list(md.coef_)\n",
    "                best_inv_state = inv_state\n",
    "                min_err = avg_err\n",
    "    if best_inv_state:\n",
    "        \n",
    "        denom_str = \" + \".join(['{} * {}'.format(x[0], x[1]) for x in zip(best_coefs, best_degrees) if x[0] != 0])\n",
    "        denom_str += \" + {}\".format(best_intercept)\n",
    "        denom_str = '1 / ({})'.format(denom_str)\n",
    "        \n",
    "        operations.append((denom_str, feat, best_coefs, best_degrees, True))\n",
    "        features[denom_str] = np.zeros(len(X))\n",
    "        for coef, state in zip(best_coefs, best_feature_state):\n",
    "            if coef != 0:\n",
    "                features[denom_str] += coef * X_trial[state].values\n",
    "    else:\n",
    "        for degree in best_degrees:\n",
    "            operations.append(('{}_deg{}'.format(feat, degree), feat, [1], [degree], False))\n",
    "            features[state] = X_trial[state]"
   ]
  },
  {
   "cell_type": "code",
   "execution_count": 1332,
   "metadata": {},
   "outputs": [
    {
     "data": {
      "text/plain": [
       "[('1 / (1.779393241057719e-15 * 3 + -2.3801912619123284e-18 * 4 + 2.884549066195303e-05)',\n",
       "  'YearBuilt',\n",
       "  [0.0, 1.779393241057719e-15, -2.3801912619123284e-18],\n",
       "  [1, 3, 4],\n",
       "  True),\n",
       " ('1 / (-1.4765340111848558e-06 * 1 + 1.5499680076099865e-05)',\n",
       "  'OverallQual',\n",
       "  [-1.4765340111848558e-06],\n",
       "  [1],\n",
       "  True)]"
      ]
     },
     "execution_count": 1332,
     "metadata": {},
     "output_type": "execute_result"
    }
   ],
   "source": [
    "operations"
   ]
  },
  {
   "cell_type": "code",
   "execution_count": 1333,
   "metadata": {},
   "outputs": [
    {
     "data": {
      "text/html": [
       "<div>\n",
       "<style scoped>\n",
       "    .dataframe tbody tr th:only-of-type {\n",
       "        vertical-align: middle;\n",
       "    }\n",
       "\n",
       "    .dataframe tbody tr th {\n",
       "        vertical-align: top;\n",
       "    }\n",
       "\n",
       "    .dataframe thead th {\n",
       "        text-align: right;\n",
       "    }\n",
       "</style>\n",
       "<table border=\"1\" class=\"dataframe\">\n",
       "  <thead>\n",
       "    <tr style=\"text-align: right;\">\n",
       "      <th></th>\n",
       "      <th>1 / (1.779393241057719e-15 * 3 + -2.3801912619123284e-18 * 4 + 2.884549066195303e-05)</th>\n",
       "      <th>1 / (-1.4765340111848558e-06 * 1 + 1.5499680076099865e-05)</th>\n",
       "    </tr>\n",
       "  </thead>\n",
       "  <tbody>\n",
       "    <tr>\n",
       "      <th>0</th>\n",
       "      <td>0.0</td>\n",
       "      <td>-0.000010</td>\n",
       "    </tr>\n",
       "    <tr>\n",
       "      <th>1</th>\n",
       "      <td>0.0</td>\n",
       "      <td>-0.000009</td>\n",
       "    </tr>\n",
       "    <tr>\n",
       "      <th>2</th>\n",
       "      <td>0.0</td>\n",
       "      <td>-0.000010</td>\n",
       "    </tr>\n",
       "    <tr>\n",
       "      <th>3</th>\n",
       "      <td>0.0</td>\n",
       "      <td>-0.000010</td>\n",
       "    </tr>\n",
       "    <tr>\n",
       "      <th>4</th>\n",
       "      <td>0.0</td>\n",
       "      <td>-0.000012</td>\n",
       "    </tr>\n",
       "  </tbody>\n",
       "</table>\n",
       "</div>"
      ],
      "text/plain": [
       "   1 / (1.779393241057719e-15 * 3 + -2.3801912619123284e-18 * 4 + 2.884549066195303e-05)  \\\n",
       "0                                                0.0                                       \n",
       "1                                                0.0                                       \n",
       "2                                                0.0                                       \n",
       "3                                                0.0                                       \n",
       "4                                                0.0                                       \n",
       "\n",
       "   1 / (-1.4765340111848558e-06 * 1 + 1.5499680076099865e-05)  \n",
       "0                                          -0.000010           \n",
       "1                                          -0.000009           \n",
       "2                                          -0.000010           \n",
       "3                                          -0.000010           \n",
       "4                                          -0.000012           "
      ]
     },
     "execution_count": 1333,
     "metadata": {},
     "output_type": "execute_result"
    }
   ],
   "source": [
    "features.head()"
   ]
  },
  {
   "cell_type": "code",
   "execution_count": 1313,
   "metadata": {
    "scrolled": true
   },
   "outputs": [
    {
     "data": {
      "text/html": [
       "<div>\n",
       "<style scoped>\n",
       "    .dataframe tbody tr th:only-of-type {\n",
       "        vertical-align: middle;\n",
       "    }\n",
       "\n",
       "    .dataframe tbody tr th {\n",
       "        vertical-align: top;\n",
       "    }\n",
       "\n",
       "    .dataframe thead th {\n",
       "        text-align: right;\n",
       "    }\n",
       "</style>\n",
       "<table border=\"1\" class=\"dataframe\">\n",
       "  <thead>\n",
       "    <tr style=\"text-align: right;\">\n",
       "      <th></th>\n",
       "      <th>1 / (1.779393241057719e-15 * YearBuilt_deg3 + -2.3801912619123284e-18 * YearBuilt_deg4 + 2.884549066195303e-05)</th>\n",
       "      <th>1 / (-1.4765340111848558e-06 * OverallQual + 1.5499680076099865e-05)</th>\n",
       "    </tr>\n",
       "  </thead>\n",
       "  <tbody>\n",
       "    <tr>\n",
       "      <th>0</th>\n",
       "      <td>-0.000024</td>\n",
       "      <td>-0.000010</td>\n",
       "    </tr>\n",
       "    <tr>\n",
       "      <th>1</th>\n",
       "      <td>-0.000023</td>\n",
       "      <td>-0.000009</td>\n",
       "    </tr>\n",
       "    <tr>\n",
       "      <th>2</th>\n",
       "      <td>-0.000024</td>\n",
       "      <td>-0.000010</td>\n",
       "    </tr>\n",
       "    <tr>\n",
       "      <th>3</th>\n",
       "      <td>-0.000020</td>\n",
       "      <td>-0.000010</td>\n",
       "    </tr>\n",
       "    <tr>\n",
       "      <th>4</th>\n",
       "      <td>-0.000024</td>\n",
       "      <td>-0.000012</td>\n",
       "    </tr>\n",
       "  </tbody>\n",
       "</table>\n",
       "</div>"
      ],
      "text/plain": [
       "   1 / (1.779393241057719e-15 * YearBuilt_deg3 + -2.3801912619123284e-18 * YearBuilt_deg4 + 2.884549066195303e-05)  \\\n",
       "0                                          -0.000024                                                                 \n",
       "1                                          -0.000023                                                                 \n",
       "2                                          -0.000024                                                                 \n",
       "3                                          -0.000020                                                                 \n",
       "4                                          -0.000024                                                                 \n",
       "\n",
       "   1 / (-1.4765340111848558e-06 * OverallQual + 1.5499680076099865e-05)  \n",
       "0                                          -0.000010                     \n",
       "1                                          -0.000009                     \n",
       "2                                          -0.000010                     \n",
       "3                                          -0.000010                     \n",
       "4                                          -0.000012                     "
      ]
     },
     "execution_count": 1313,
     "metadata": {},
     "output_type": "execute_result"
    }
   ],
   "source": [
    "features.head()"
   ]
  },
  {
   "cell_type": "code",
   "execution_count": 1213,
   "metadata": {},
   "outputs": [
    {
     "name": "stdout",
     "output_type": "stream",
     "text": [
      "2480499464.3140388\n",
      "2385090918.2905593\n",
      "True\n"
     ]
    }
   ],
   "source": [
    "X_train, X_test, y_train, y_test = train_test_split(X, y, test_size=0.33)\n",
    "\n",
    "mod = LinearRegression()\n",
    "mod.fit(X_train, y_train)\n",
    "y_pred = mod.predict(X_test)\n",
    "\n",
    "e1 = mean_squared_error(y_test, y_pred)\n",
    "print(e1)\n",
    "\n",
    "X_train, X_test, y_train, y_test = train_test_split(features, y, test_size=0.33)\n",
    "\n",
    "mod = LinearRegression()\n",
    "mod.fit(X_train, y_train)\n",
    "y_pred = mod.predict(X_test)\n",
    "\n",
    "e2 = mean_squared_error(y_test, y_pred)\n",
    "print(e2)\n",
    "\n",
    "print(e2 < e1)"
   ]
  },
  {
   "cell_type": "code",
   "execution_count": 1152,
   "metadata": {
    "scrolled": false
   },
   "outputs": [
    {
     "name": "stderr",
     "output_type": "stream",
     "text": [
      "C:\\Users\\olive\\AppData\\Local\\Continuum\\anaconda3\\lib\\site-packages\\matplotlib\\cbook\\deprecation.py:107: MatplotlibDeprecationWarning: Adding an axes using the same arguments as a previous axes currently reuses the earlier instance.  In a future version, a new instance will always be created and returned.  Meanwhile, this warning can be suppressed, and the future behavior ensured, by passing a unique label to each axes instance.\n",
      "  warnings.warn(message, mplDeprecation, stacklevel=1)\n"
     ]
    },
    {
     "data": {
      "image/png": "[encoded data removed]",
      "text/plain": [
       "<Figure size 432x288 with 1 Axes>"
      ]
     },
     "metadata": {},
     "output_type": "display_data"
    }
   ],
   "source": [
    "for feat in features.columns:\n",
    "    ax = plt.subplot(111)\n",
    "    plt.scatter(features[feat], y)\n",
    "    plt.xlim(-0.00005, 0.00001)"
   ]
  },
  {
   "cell_type": "code",
   "execution_count": 1156,
   "metadata": {
    "scrolled": true
   },
   "outputs": [
    {
     "name": "stderr",
     "output_type": "stream",
     "text": [
      "C:\\Users\\olive\\AppData\\Local\\Continuum\\anaconda3\\lib\\site-packages\\matplotlib\\cbook\\deprecation.py:107: MatplotlibDeprecationWarning: Adding an axes using the same arguments as a previous axes currently reuses the earlier instance.  In a future version, a new instance will always be created and returned.  Meanwhile, this warning can be suppressed, and the future behavior ensured, by passing a unique label to each axes instance.\n",
      "  warnings.warn(message, mplDeprecation, stacklevel=1)\n"
     ]
    },
    {
     "data": {
      "image/png": "[encoded data removed]",
      "text/plain": [
       "<Figure size 432x288 with 1 Axes>"
      ]
     },
     "metadata": {},
     "output_type": "display_data"
    }
   ],
   "source": [
    "for feat in X.columns:\n",
    "    ax = plt.subplot(111)\n",
    "    plt.scatter(X[feat], y)"
   ]
  },
  {
   "cell_type": "code",
   "execution_count": null,
   "metadata": {},
   "outputs": [],
   "source": []
  }
 ],
 "metadata": {
  "kernelspec": {
   "display_name": "Python 3",
   "language": "python",
   "name": "python3"
  },
  "language_info": {
   "codemirror_mode": {
    "name": "ipython",
    "version": 3
   },
   "file_extension": ".py",
   "mimetype": "text/x-python",
   "name": "python",
   "nbconvert_exporter": "python",
   "pygments_lexer": "ipython3",
   "version": "3.6.5"
  }
 },
 "nbformat": 4,
 "nbformat_minor": 2
}
